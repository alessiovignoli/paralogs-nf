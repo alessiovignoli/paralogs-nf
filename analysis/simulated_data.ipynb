{
 "cells": [
  {
   "cell_type": "markdown",
   "id": "8d6c408c-3b82-4cbb-b94a-cb9728c78fe6",
   "metadata": {},
   "source": [
    "# Analysis of simulated data"
   ]
  },
  {
   "cell_type": "markdown",
   "id": "606b5d7a-8d48-4caf-8c72-e89dce7c1208",
   "metadata": {},
   "source": [
    "\n",
    "This is a brief description of your project or analysis. Explain the purpose, goals, or context of the notebook here.\n",
    "\n",
    "## Table of Contents\n",
    "- [1. Chapter 1 - Introduction](#chapter-1---introduction)\n",
    "- [2. Chapter 2 - Input specification](#chapter-2---Input-specification)\n",
    "- [3. Chapter 3 - Supermatrix and Supertree trees VS true topologies](#chapter-3---Supermatrix-and-Supertree-trees-VS-true-topologies)\n",
    "- [4. Chapter 4 - Model Building](#chapter-4---model-building)\n",
    "- [5. Chapter 5 - Conclusion](#chapter-5---conclusion)\n"
   ]
  },
  {
   "cell_type": "markdown",
   "id": "d203093e-da42-45a7-8e98-853d4403630a",
   "metadata": {},
   "source": [
    "## Chapter 1 - Introduction\n",
    "<a id=\"chapter-1---introduction\"></a>\n",
    "\n",
    "Here, you provide an introduction to the chapter. Explain key concepts, background, or objectives. Things to know what usefull to know about this script.\n"
   ]
  },
  {
   "cell_type": "markdown",
   "id": "20bb020e-4f1d-4338-ac5a-abecc8a06121",
   "metadata": {},
   "source": [
    "## Chapter 2 - Input specification\n",
    "<a id=\"chapter-2---Input-specification\"></a>\n",
    "\n",
    "Change the parent_of_all_dir variable to give the location of the input. All input files are expected to be under it. Otherwise change the single input location to you liking.<br>\n",
    "All input files or directory paths are listed here."
   ]
  },
  {
   "cell_type": "code",
   "execution_count": 34,
   "id": "04187777-5e20-43b3-9f39-62523fc0fc0b",
   "metadata": {},
   "outputs": [],
   "source": [
    "# the location of the directory that contains all inputs for analyses \n",
    "parent_of_all_dir = \"/users/cn/abaltzis/projects/1_paralogs/simulated_datasets/simulated_sequences/\"\n",
    "\n",
    "# The directory (one or more) that contain all the results from the main.nf pipeline run. It can be a glob path.\n",
    "dir_containing_all_pipe_results = \"../results\"\n",
    "#dir_containing_all_pipe_results = file.path(parent_of_all_dir, \"rerun_25_species_corrected_branches/rerun_sim_b_factor*\")\n",
    "\n",
    "#  \n",
    "reference_tree_codefile = file.path(parent_of_all_dir, \"ref_tree.code\")\n",
    "\n",
    "# get the species/organism list of names used by the main.nf pipeline\n",
    "species_name_file = file.path(parent_of_all_dir, \"orthologs_org_ids_to_concatenate\")"
   ]
  },
  {
   "cell_type": "markdown",
   "id": "566da14f-4b2d-4610-9a9a-6f892dfc9964",
   "metadata": {},
   "source": [
    "## Chapter 3 - Supermatrix and Supertree trees VS true topologies\n",
    "<a id=\"chapter-3---Supermatrix-and-Supertree-trees-VS-true-topologies\"></a>\n",
    "\n",
    "description "
   ]
  },
  {
   "cell_type": "code",
   "execution_count": 37,
   "id": "c707c5c4-51d2-4b25-a6cc-b8a9ccb9e0aa",
   "metadata": {},
   "outputs": [
    {
     "name": "stdout",
     "output_type": "stream",
     "text": [
      "[1] \"results\"\n",
      "[1] \"../results/avg_branchlen_0.7_protein_family_001.sub\"\n",
      "[1] \"../results/avg_branchlen_0.7_protein_family_002.sub\"\n",
      "[1] \"../results/avg_branchlen_0.7_protein_family_003.sub\"\n",
      "[1] \"../results/avg_branchlen_0.7_protein_family_004.sub\"\n",
      "[1] \"../results/avg_branchlen_0.7_protein_family_005.sub\"\n",
      "[1] \"../results/avg_branchlen_0.7_protein_family_006.sub\"\n",
      "[1] \"../results/avg_branchlen_0.7_protein_family_007.sub\"\n",
      "[1] \"../results/avg_branchlen_0.7_protein_family_008.sub\"\n",
      "[1] \"../results/avg_branchlen_0.7_protein_family_009.sub\"\n",
      "[1] \"../results/avg_branchlen_0.7_protein_family_100.sub\"\n"
     ]
    }
   ],
   "source": [
    "RF_avg_list = list()\n",
    "TBE_avg_list = list()\n",
    "RF_se_list = list()\n",
    "TBE_se_list = list()\n",
    "RF_avg_norm_list = list()\n",
    "TBE_avg_norm_list = list()\n",
    "collect_branch_len_supermatrix_ml = c()\n",
    "collect_diameter_supermatrix_ml = c()\n",
    "\n",
    "# each run of main.nf has one output directory. here we get that or multiple runs outputs directories.\n",
    "run_dirs = Sys.glob(dir_containing_all_pipe_results)\n",
    "run_dirs = run_dirs[file.info(run_dirs)$isdir]\n",
    "\n",
    "for (run in run_dirs) {\n",
    "    print(basename(run))\n",
    "\n",
    "    ref_codefile = read.table(file = reference_tree_codefile )\n",
    "    \n",
    "    # get al the family subdirectories in each maqin.nf output run dir\n",
    "    fam_dirs = grep(\"avg_branchlen*\", list.dirs(run, recursive = FALSE), value = TRUE)\n",
    "    count_fam = 0\n",
    "    avg_branch_length = c()\n",
    "\n",
    "    # read the names of the ortholog species.\n",
    "    orgs = read.table(file = species_name_file)\n",
    "\n",
    "    for (m in fam_dirs) {\n",
    "        print(basename(m))\n",
    "        count_fam = count_fam + 1\n",
    "        \n",
    "    }\n",
    "}"
   ]
  },
  {
   "cell_type": "code",
   "execution_count": null,
   "id": "98f0e014-c62b-4480-952c-4bfc84389bd1",
   "metadata": {},
   "outputs": [],
   "source": []
  }
 ],
 "metadata": {
  "kernelspec": {
   "display_name": "R",
   "language": "R",
   "name": "ir"
  },
  "language_info": {
   "codemirror_mode": "r",
   "file_extension": ".r",
   "mimetype": "text/x-r-source",
   "name": "R",
   "pygments_lexer": "r",
   "version": "4.4.0"
  }
 },
 "nbformat": 4,
 "nbformat_minor": 5
}
